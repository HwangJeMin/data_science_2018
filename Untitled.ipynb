{
 "cells": [
  {
   "cell_type": "code",
   "execution_count": 1,
   "metadata": {},
   "outputs": [],
   "source": [
    "import pandas as pd\n",
    "import numpy as np\n",
    "from sklearn import metrics, preprocessing, linear_model"
   ]
  },
  {
   "cell_type": "code",
   "execution_count": 2,
   "metadata": {},
   "outputs": [
    {
     "name": "stdout",
     "output_type": "stream",
     "text": [
      "Loading data...\n",
      "(393613, 54)\n",
      "(243377, 54)\n"
     ]
    }
   ],
   "source": [
    "np.random.seed(0)\n",
    "\n",
    "print(\"Loading data...\")\n",
    "# Load the data from the CSV files\n",
    "training_data = pd.read_csv('numerai_training_data.csv', header=0)\n",
    "prediction_data = pd.read_csv('numerai_tournament_data.csv', header=0)\n",
    "print(training_data.shape)\n",
    "print(prediction_data.shape)"
   ]
  },
  {
   "cell_type": "code",
   "execution_count": 5,
   "metadata": {},
   "outputs": [
    {
     "name": "stdout",
     "output_type": "stream",
     "text": [
      "(393613, 50)\n",
      "(393613,)\n",
      "(243377, 50)\n",
      "(243377,)\n"
     ]
    }
   ],
   "source": [
    "features = [f for f in list(training_data) if \"feature\" in f]\n",
    "X = training_data[features]\n",
    "print(X.shape)\n",
    "Y = training_data[\"target\"]\n",
    "print(Y.shape)\n",
    "x_prediction = prediction_data[features]\n",
    "print(x_prediction.shape)\n",
    "ids = prediction_data[\"id\"]\n",
    "print(ids.shape)"
   ]
  },
  {
   "cell_type": "code",
   "execution_count": 11,
   "metadata": {},
   "outputs": [
    {
     "name": "stdout",
     "output_type": "stream",
     "text": [
      "Training...\n",
      "[1 0 0 1 1 1 0 0 0 1]\n",
      "Predicting...\n",
      "[[0.49897348 0.50102652]\n",
      " [0.50013305 0.49986695]\n",
      " [0.50008548 0.49991452]\n",
      " [0.49990783 0.50009217]\n",
      " [0.49928054 0.50071946]\n",
      " [0.49990783 0.50009217]\n",
      " [0.50009555 0.49990445]\n",
      " [0.50286576 0.49713424]\n",
      " [0.50009555 0.49990445]\n",
      " [0.49913561 0.50086439]]\n",
      "[0.50102652 0.49986695 0.49991452 0.50009217 0.50071946 0.50009217\n",
      " 0.49990445 0.49713424 0.49990445 0.50086439]\n"
     ]
    }
   ],
   "source": [
    "from sklearn.ensemble import GradientBoostingClassifier\n",
    "\n",
    "# model = linear_model.LogisticRegression(n_jobs=-1)\n",
    "model = GradientBoostingClassifier(n_estimators=10, random_state=0, learning_rate=0.01)\n",
    "\n",
    "\n",
    "print(\"Training...\")\n",
    "model.fit(X, Y)\n",
    "\n",
    "y_pred = model.predict(x_prediction)\n",
    "print(y_pred[:10])\n",
    "\n",
    "print(\"Predicting...\")\n",
    "y_prediction = model.predict_proba(x_prediction)\n",
    "print(y_prediction[:10])\n",
    "\n",
    "results = y_prediction[:, 1]\n",
    "print(results[:10])"
   ]
  },
  {
   "cell_type": "code",
   "execution_count": 9,
   "metadata": {},
   "outputs": [],
   "source": [
    "results_df = pd.DataFrame(data={'probability':results})\n",
    "joined = pd.DataFrame(ids).join(results_df)\n",
    "joined.to_csv(\"predictions.csv\", index=False)"
   ]
  }
 ],
 "metadata": {
  "kernelspec": {
   "display_name": "Python 3",
   "language": "python",
   "name": "python3"
  },
  "language_info": {
   "codemirror_mode": {
    "name": "ipython",
    "version": 3
   },
   "file_extension": ".py",
   "mimetype": "text/x-python",
   "name": "python",
   "nbconvert_exporter": "python",
   "pygments_lexer": "ipython3",
   "version": "3.6.4"
  }
 },
 "nbformat": 4,
 "nbformat_minor": 2
}
